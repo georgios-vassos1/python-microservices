{
 "cells": [
  {
   "cell_type": "markdown",
   "id": "c4867a80",
   "metadata": {},
   "source": [
    "# Python Microservices "
   ]
  },
  {
   "cell_type": "markdown",
   "id": "99f3e408",
   "metadata": {},
   "source": [
    "The example is taken from: https://realpython.com/python-microservices-grpc/#why-microservices"
   ]
  },
  {
   "cell_type": "markdown",
   "id": "4576d986",
   "metadata": {},
   "source": [
    "<b>Utility.</b> Microservices are a paradigm for organizing complex software systems.\n",
    "\n",
    "<b>Principle.</b> Break your application into microservices that can be *deployed independently* and *communicate* with each other.\n",
    "\n",
    "<b>Example.</b> Python microservices using gRPC; learn more about gRPC <a href=\"https://grpc.io/\">here</a>.\n",
    "\n",
    "<b>Ethos.</b> Building a framework to support critical applications, you must ensure it is <b>robust</b> and <b>developer-friendly</b>.\n",
    "\n",
    "- <b>Robustness.</b> If all source code implements one application, then you have to deploy all code at once, which is a risky practice, i.e., small changes in the source code can take result great downtimes.\n",
    "\n",
    "- <b>Developer-friendliness.</b> Fellow developers do not get cancer when they read your code."
   ]
  },
  {
   "cell_type": "markdown",
   "id": "c1a6e402",
   "metadata": {},
   "source": [
    "## Objectives"
   ]
  },
  {
   "cell_type": "markdown",
   "id": "22c08cb1",
   "metadata": {},
   "source": [
    "- Implementation of microservices using Python\n",
    "- Monitoring of microservices with middleware\n",
    "- Unit and integration testing\n",
    "- Deployment of microservices to production servers with Kubernetes"
   ]
  },
  {
   "cell_type": "markdown",
   "id": "a56aa21f",
   "metadata": {},
   "source": [
    "## Recommendations API\n",
    "\n",
    "### Request object\n",
    "\n",
    "- <b>User ID</b>: Enable personalized recommendations through machine learning.\n",
    "- <b>Book category</b>: Generic book categories, no need to discover them, use the popular ones.\n",
    "- <b>Max results</b>: Limit the request.\n",
    "\n",
    "### Book object\n",
    "\n",
    "- <b>Book ID</b>: Unique numeric ID.\n",
    "- <b>Book title</b>: The title to be displayed in the user interface.\n",
    "\n",
    "### Response object\n",
    "\n",
    "- List of books."
   ]
  },
  {
   "cell_type": "markdown",
   "id": "975f5431",
   "metadata": {},
   "source": [
    "### Formal definition of the API as a protocol buffer\n",
    "\n",
    "Strictly speaking, protocol buffers refers to the serialization format of data sent between two microservices. "
   ]
  },
  {
   "cell_type": "code",
   "execution_count": null,
   "id": "0dcc1cd9",
   "metadata": {},
   "outputs": [],
   "source": [
    "from IPython import display"
   ]
  },
  {
   "cell_type": "code",
   "execution_count": null,
   "id": "9a63d20c",
   "metadata": {},
   "outputs": [],
   "source": [
    "display.Code(\"protobufs/recommendations.proto\")"
   ]
  },
  {
   "cell_type": "markdown",
   "id": "7ce54e95",
   "metadata": {},
   "source": [
    "<b>Remark.</b> Thnik of an `rpc` as a normal function. The difference is that the `rpc` body is executed on a remote server."
   ]
  },
  {
   "cell_type": "markdown",
   "id": "4c80ff39",
   "metadata": {},
   "source": [
    "### Protocol buffers vs HTTP-JSON\n",
    "\n",
    "- <b>Documentation.</b> Well-defined and self-documented schema.\n",
    "    - Python code is generated from it, thus the code will <b>never be out of sync</b> with the documentation.\n",
    "- <b>Validation.</b> If you use HTTP and JSON for your API, then you need to write code for 1) the request, 2) sending the request, 3) wait for the response, 4) check the status code, and 5) parse and validate the response. With protocol buffers, a network request is done under the hood. To get the same benefits with HTTP-JSON you can use <a href=\"https://swagger.io/about/\">Swagger</a> to build REST APIs.\n",
    "- <b>Performance.</b> gRPC is built on top of HTTP/2, which can make multiple requests in parallel on a long-lived connection in a thread-safe way. Connection setup is relatively slow, so doing it once and sharing the connection across multiple requests saves time. gRPC messages are also binary and smaller than JSON.\n",
    "- <b>Developer-Friendliness.</b> Define your API in terms of functions, not HTTP verbs and resources"
   ]
  },
  {
   "cell_type": "code",
   "execution_count": null,
   "id": "1e25a083",
   "metadata": {},
   "outputs": [],
   "source": [
    "display.Code(\"recommendations/run.sh\")"
   ]
  },
  {
   "cell_type": "markdown",
   "id": "da4ee0b6",
   "metadata": {},
   "source": [
    "Two Python files will be generated.\n",
    "\n",
    "The two Python files will contain types and functions to interact with your API, i.e., client code to call an RPC and server code to implement the RPC.\n",
    "\n",
    "The `recommendations_pb2.py` file contains the <b>type definitions</b>.\n",
    "\n",
    "The `recommendations_pb2_grpc.py` file contains the <b>client-server framework</b>."
   ]
  },
  {
   "cell_type": "code",
   "execution_count": null,
   "id": "de03754a",
   "metadata": {
    "scrolled": true
   },
   "outputs": [],
   "source": [
    "display.Code(\"recommendations/recommendations_pb2.py\")"
   ]
  },
  {
   "cell_type": "code",
   "execution_count": null,
   "id": "8a0b3b4d",
   "metadata": {
    "scrolled": true
   },
   "outputs": [],
   "source": [
    "display.Code(\"recommendations/recommendations_pb2_grpc.py\")"
   ]
  },
  {
   "cell_type": "markdown",
   "id": "203d6aa4",
   "metadata": {},
   "source": [
    "### Interacting with the compiler-generated source code"
   ]
  },
  {
   "cell_type": "code",
   "execution_count": null,
   "id": "992570d5",
   "metadata": {},
   "outputs": [],
   "source": [
    "import os\n",
    "## Change working directory for convenience\n",
    "os.chdir(os.path.join(os.getcwd(), \"recommendations\"))"
   ]
  },
  {
   "cell_type": "code",
   "execution_count": null,
   "id": "7584e652",
   "metadata": {},
   "outputs": [],
   "source": [
    "import grpc\n",
    "from recommendations_pb2_grpc import RecommendationsStub\n",
    "from recommendations_pb2 import BookCategory, RecommendationRequest"
   ]
  },
  {
   "cell_type": "markdown",
   "id": "bec72bab",
   "metadata": {},
   "source": [
    "The <b>grpc</b> module provides functions for *setting up connections to remote servers*.\n",
    "\n",
    "The RecommendationsStub is the RPC client stub; the client itself does not have any functionality but calls out to a remote server and passes the result back."
   ]
  },
  {
   "cell_type": "code",
   "execution_count": null,
   "id": "f7e6ea06",
   "metadata": {},
   "outputs": [],
   "source": [
    "## Make an RPC request\n",
    "## Create a request for recommendation\n",
    "request = RecommendationRequest(\n",
    "    user_id     = 1,\n",
    "    category    = BookCategory.PHILOSOPHY,\n",
    "    max_results = 3\n",
    ")\n",
    "## If you leave one unset, then it will default to zero for numeric types or to an empty string for strings\n",
    "\n",
    "## An insecure channel is unauthenticated and unencrypted \n",
    "## 50051 is the standard port for gRPC\n",
    "channel = grpc.insecure_channel(\"localhost:50051\") \n",
    "client  = RecommendationsStub(channel)\n",
    "## Client initiates a request for recommendation; at this point there is no server\n",
    "client.Recommend(request)"
   ]
  },
  {
   "cell_type": "markdown",
   "id": "70a4af8e",
   "metadata": {},
   "source": [
    "### RPC server implementation"
   ]
  },
  {
   "cell_type": "code",
   "execution_count": null,
   "id": "ae287b8a",
   "metadata": {},
   "outputs": [],
   "source": [
    "os.chdir(os.path.split(os.getcwd())[0])"
   ]
  },
  {
   "cell_type": "code",
   "execution_count": null,
   "id": "100ae066",
   "metadata": {
    "scrolled": true
   },
   "outputs": [],
   "source": [
    "display.Code(\"recommendations/recommendations.py\")"
   ]
  },
  {
   "cell_type": "markdown",
   "id": "db663e21",
   "metadata": {},
   "source": [
    "### Client implementation"
   ]
  },
  {
   "cell_type": "code",
   "execution_count": null,
   "id": "b38307af",
   "metadata": {},
   "outputs": [],
   "source": [
    "display.Code(\"marketplace/marketplace.py\")"
   ]
  },
  {
   "cell_type": "code",
   "execution_count": null,
   "id": "b90c7e3d",
   "metadata": {},
   "outputs": [],
   "source": [
    "display.Code(\"marketplace/templates/homepage.html\")"
   ]
  },
  {
   "cell_type": "code",
   "execution_count": null,
   "id": "4dad2957",
   "metadata": {},
   "outputs": [],
   "source": []
  }
 ],
 "metadata": {
  "kernelspec": {
   "display_name": "Python 3 (ipykernel)",
   "language": "python",
   "name": "python3"
  },
  "language_info": {
   "codemirror_mode": {
    "name": "ipython",
    "version": 3
   },
   "file_extension": ".py",
   "mimetype": "text/x-python",
   "name": "python",
   "nbconvert_exporter": "python",
   "pygments_lexer": "ipython3",
   "version": "3.9.8"
  }
 },
 "nbformat": 4,
 "nbformat_minor": 5
}
